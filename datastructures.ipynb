{
 "cells": [
  {
   "cell_type": "markdown",
   "metadata": {},
   "source": [
    "Data Structures: Way of organizing values in a computer\n",
    "\n",
    "<h2>Linked List</h2>\n",
    "\n",
    "Pointer from item to item. Requires you to go from item to item. \n",
    "l = linkedlist() -> l is a pointer to an item in the list. \n",
    "\n",
    "class Node -> has self.value (the number stored) has self.next (none)\n",
    "\n",
    "The index exists as a reference to node prior. These references mean that each node doesn't need to be adjecent in memory location. \n",
    "\n",
    "Methods - add (adds element to the end), addFront(adds to front),\n"
   ]
  },
  {
   "cell_type": "markdown",
   "metadata": {},
   "source": [
    "<h2>Array</h2>\n",
    "\n",
    "Continuous list of nodes, adjecent in memory, cannot grow, each node must be equal size. \n",
    "\n",
    "(List in python is actually an array). Usually primitive types (ints, floats, refs to objects). \n",
    "\n",
    ".append iteratively is very inefficient (as it must find a new memory space with each new append)"
   ]
  },
  {
   "cell_type": "markdown",
   "metadata": {},
   "source": [
    "<h2>Doubly Linked List</h2>\n",
    "\n",
    "Same as a linked list, except the pointers are both directions, so can point to node prior and after the element. "
   ]
  },
  {
   "cell_type": "markdown",
   "metadata": {},
   "source": [
    "<h2>Queue</h2>\n",
    "\n",
    "Has 2 operations: \n",
    "\n",
    "enqueue - adds a node to the queue\n",
    "dequeue - removes a node from the queue\n",
    "\n",
    "Must enter into the back, and remove from the front. Must be processed in that order.\n",
    "\n",
    "Python list is implicit queue with methods.\n",
    "\n",
    "(Priority Queue, can set priorities for the elements)"
   ]
  },
  {
   "cell_type": "markdown",
   "metadata": {},
   "source": [
    "<h2>Stack</h2>\n",
    "\n",
    "Like a queue, however instead of first in first out, it's first in last out (like a stack of plates).\n",
    "\n",
    "FiFo (Queue) -first in first out\n",
    "LiFo (Stack) -last in first out\n",
    "\n",
    "(Push - adding element), (Pop - removing elecment)\n",
    "\n",
    "\n"
   ]
  },
  {
   "cell_type": "markdown",
   "metadata": {},
   "source": [
    "<h2>Comments from Datastructures work</h2>\n",
    "\n",
    "self. method convention in python to use .\\_'name' to signify that something is a private class, rather than a public class. (Unlike other languages which allow you to specify private vs. public classes.\n",
    "\n",
    "Note: difference between self.\\_data.remove and del self.\\data (remove is a function which will iterate through the entire list to work.\n",
    "\n",
    "Vocab -> Push, Pop, Peek, enqueue, dequeue, Node, Array, Linked List, Doubly Linked Lisk\n",
    "\n"
   ]
  },
  {
   "cell_type": "code",
   "execution_count": null,
   "metadata": {},
   "outputs": [],
   "source": []
  },
  {
   "cell_type": "code",
   "execution_count": null,
   "metadata": {},
   "outputs": [],
   "source": []
  },
  {
   "cell_type": "code",
   "execution_count": null,
   "metadata": {},
   "outputs": [],
   "source": []
  }
 ],
 "metadata": {
  "kernelspec": {
   "display_name": "Python 3",
   "language": "python",
   "name": "python3"
  },
  "language_info": {
   "codemirror_mode": {
    "name": "ipython",
    "version": 3
   },
   "file_extension": ".py",
   "mimetype": "text/x-python",
   "name": "python",
   "nbconvert_exporter": "python",
   "pygments_lexer": "ipython3",
   "version": "3.7.3"
  }
 },
 "nbformat": 4,
 "nbformat_minor": 4
}
